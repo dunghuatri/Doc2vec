{
 "cells": [
  {
   "cell_type": "markdown",
   "metadata": {},
   "source": [
    "## Import thư viện"
   ]
  },
  {
   "cell_type": "code",
   "execution_count": 1,
   "metadata": {},
   "outputs": [
    {
     "name": "stderr",
     "output_type": "stream",
     "text": [
      "C:\\Users\\ADMIN\\Anaconda3\\lib\\site-packages\\gensim\\utils.py:1197: UserWarning: detected Windows; aliasing chunkize to chunkize_serial\n",
      "  warnings.warn(\"detected Windows; aliasing chunkize to chunkize_serial\")\n"
     ]
    }
   ],
   "source": [
    "%matplotlib inline\n",
    "\n",
    "# gensim modules\n",
    "from gensim import utils\n",
    "from gensim.models.doc2vec import TaggedDocument\n",
    "from gensim.models import Doc2Vec\n",
    "\n",
    "#glob\n",
    "import glob\n",
    "\n",
    "# numpy\n",
    "import numpy as np\n",
    "\n",
    "#pandas\n",
    "import pandas as pd\n",
    "\n",
    "# classifier\n",
    "from sklearn.linear_model import LogisticRegression\n",
    "from sklearn.svm import SVC\n",
    "from sklearn.metrics import confusion_matrix\n",
    "from sklearn.metrics import accuracy_score\n",
    "\n",
    "# random, itertools, matplotlib\n",
    "import random\n",
    "import itertools\n",
    "import matplotlib.pyplot as plt"
   ]
  },
  {
   "cell_type": "markdown",
   "metadata": {},
   "source": [
    "## Class đọc từng dòng trong file text\n",
    "Mỗi dòng lúc này được xem như một paragraph"
   ]
  },
  {
   "cell_type": "code",
   "execution_count": null,
   "metadata": {},
   "outputs": [],
   "source": [
    "class LabeledLineSentence(object):\n",
    "    def __init__(self, sources):\n",
    "        self.sources = sources\n",
    "        \n",
    "        flipped = {}\n",
    "        \n",
    "        # make sure that keys are unique\n",
    "        for key, value in sources.items():\n",
    "            if value not in flipped:\n",
    "                flipped[value] = [key]\n",
    "            else:\n",
    "                raise Exception('Non-unique prefix encountered')\n",
    "    \n",
    "    def __iter__(self):\n",
    "        for source, prefix in self.sources.items():\n",
    "            with utils.smart_open(source) as fin:\n",
    "                for item_no, line in enumerate(fin):\n",
    "                    yield LabeledSentence(utils.to_unicode(line).split(), [prefix + '_%s' % item_no])\n",
    "    \n",
    "    def to_array(self):\n",
    "        self.sentences = []\n",
    "        for source, prefix in self.sources.items():\n",
    "            with utils.smart_open(source) as fin:\n",
    "                for item_no, line in enumerate(fin):\n",
    "                    self.sentences.append(LabeledSentence(utils.to_unicode(line).split(), [prefix + '_%s' % item_no]))\n",
    "        return self.sentences\n",
    "    \n",
    "    def sentences_perm(self):\n",
    "        shuffled = list(self.sentences)\n",
    "        random.shuffle(shuffled)\n",
    "        return shuffled"
   ]
  },
  {
   "cell_type": "markdown",
   "metadata": {},
   "source": [
    "## Class đọc toàn bộ nội dung trong file text\n",
    "Mỗi file text lúc này được xem như một paragraph\n",
    "(tên class này giống hệt tên class trên, chọn 1 trong 2 class thôi)"
   ]
  },
  {
   "cell_type": "code",
   "execution_count": null,
   "metadata": {},
   "outputs": [],
   "source": [
    "class LabeledLineSentence(object):\n",
    "    def __init__(self, sources):\n",
    "        self.sources = sources\n",
    "        \n",
    "        flipped = {}\n",
    "        \n",
    "        # make sure that keys are unique\n",
    "        for key, value in sources.items():\n",
    "            if value not in flipped:\n",
    "                flipped[value] = [key]\n",
    "            else:\n",
    "                raise Exception('Non-unique prefix encountered')\n",
    "    \n",
    "    def __iter__(self):\n",
    "        for source, prefix in self.sources.items():\n",
    "            with utils.smart_open(source) as fin:\n",
    "                for item_no, line in enumerate(fin):\n",
    "                    yield LabeledSentence(utils.to_unicode(line).split(), [prefix + '_%s' % item_no])\n",
    "    \n",
    "    def to_array(self):\n",
    "        self.sentences = []\n",
    "        item_no = 0\n",
    "        for source, prefix in self.sources.items():\n",
    "            with open (source, 'r' ,encoding=\"utf8\") as fin:\n",
    "                content=fin.read().replace('\\n', '')\n",
    "                self.sentences.append(LabeledSentence(utils.to_unicode(content).split(), [prefix + '_%s' % item_no]))\n",
    "                item_no = item_no + 1\n",
    "        return self.sentences\n",
    "    \n",
    "    def sentences_perm(self):\n",
    "        shuffled = list(self.sentences)\n",
    "        random.shuffle(shuffled)\n",
    "        return shuffled"
   ]
  },
  {
   "cell_type": "markdown",
   "metadata": {},
   "source": [
    "## Class đọc từng dòng 'content' trong file csv"
   ]
  },
  {
   "cell_type": "code",
   "execution_count": 2,
   "metadata": {},
   "outputs": [],
   "source": [
    "class LabeledContent(object):\n",
    "    def __init__(self, sources):\n",
    "        self.sources = sources\n",
    "        \n",
    "        flipped = {}\n",
    "        \n",
    "        # make sure that keys are unique\n",
    "        for key, value in sources.items():\n",
    "            if value not in flipped:\n",
    "                flipped[value] = [key]\n",
    "            else:\n",
    "                raise Exception('Non-unique prefix encountered')\n",
    "    \n",
    "    def to_array(self):\n",
    "        self.sentences = []\n",
    "        item_no = 0\n",
    "        for source, prefix in self.sources.items():\n",
    "            \n",
    "            allFiles = glob.glob(source + \"/*.csv\")\n",
    "            series_ = pd.DataFrame()\n",
    "            list_ = []\n",
    "            for file_ in allFiles:\n",
    "                df = pd.read_csv(file_)\n",
    "                content = df['content']\n",
    "                list_.append(content)\n",
    "            series_ = pd.concat(list_)\n",
    "            series_ = series_.drop_duplicates()\n",
    "            series_ = series_.dropna()\n",
    "            for row in series_:\n",
    "                self.sentences.append(TaggedDocument(utils.to_unicode(row).split(), [prefix + '_%s' % item_no]))\n",
    "                item_no = item_no + 1\n",
    "        return self.sentences\n",
    "    \n",
    "    def sentences_perm(self):\n",
    "        shuffled = list(self.sentences)\n",
    "        random.shuffle(shuffled)\n",
    "        return shuffled"
   ]
  },
  {
   "cell_type": "markdown",
   "metadata": {},
   "source": [
    "### Xét đường dẫn tới dataset"
   ]
  },
  {
   "cell_type": "code",
   "execution_count": 3,
   "metadata": {},
   "outputs": [],
   "source": [
    "# sources = {\n",
    "#     'data/movie reviews/test-neg.txt':'TEST_NEG',\n",
    "#     'data/movie reviews/test-pos.txt':'TEST_POS', \n",
    "#     'data/movie reviews/train-neg.txt':'TRAIN_NEG', \n",
    "#     'data/movie reviews/train-pos.txt':'TRAIN_POS',    \n",
    "# }\n",
    "sources = {'data':'SAMPLE',}\n",
    "\n",
    "sentences = LabeledContent(sources)"
   ]
  },
  {
   "cell_type": "markdown",
   "metadata": {},
   "source": [
    "### Xét tham số cho model, build vocabulary."
   ]
  },
  {
   "cell_type": "code",
   "execution_count": 9,
   "metadata": {},
   "outputs": [
    {
     "name": "stdout",
     "output_type": "stream",
     "text": [
      "num of cores is 8\n"
     ]
    }
   ],
   "source": [
    "import multiprocessing\n",
    "cores = multiprocessing.cpu_count()\n",
    "print('num of cores is %s' % cores)\n",
    "model = Doc2Vec(min_count=2, window=10, vector_size=100, sample=1e-4, negative=5, workers=cores-1, dm=0)\n",
    "\n",
    "model.build_vocab(sentences.to_array())"
   ]
  },
  {
   "cell_type": "markdown",
   "metadata": {},
   "source": [
    "### Train model"
   ]
  },
  {
   "cell_type": "code",
   "execution_count": 10,
   "metadata": {},
   "outputs": [
    {
     "name": "stdout",
     "output_type": "stream",
     "text": [
      "14.266626449430362\n"
     ]
    }
   ],
   "source": [
    "import timeit\n",
    "start = timeit.default_timer()\n",
    "model.train(sentences.sentences_perm(), total_examples=model.corpus_count, epochs=1)\n",
    "stop = timeit.default_timer()\n",
    "print(stop - start)"
   ]
  },
  {
   "cell_type": "code",
   "execution_count": 11,
   "metadata": {},
   "outputs": [],
   "source": [
    "model.save('model_data_news.model')"
   ]
  },
  {
   "cell_type": "code",
   "execution_count": 12,
   "metadata": {},
   "outputs": [],
   "source": [
    "loaded_model = Doc2Vec.load('model_data_news.model')"
   ]
  },
  {
   "cell_type": "markdown",
   "metadata": {},
   "source": [
    "### Tìm các từ tương tự với một từ được chọn"
   ]
  },
  {
   "cell_type": "code",
   "execution_count": 14,
   "metadata": {},
   "outputs": [
    {
     "data": {
      "text/plain": [
       "[('ytcs', 0.40592342615127563),\n",
       " ('dá', 0.3979211151599884),\n",
       " ('quẫn_trí', 0.3969387412071228),\n",
       " ('cấp_tiến', 0.39341461658477783),\n",
       " ('tràng_hạt', 0.392300009727478),\n",
       " ('costanza', 0.39167165756225586),\n",
       " ('bụi_bụi', 0.38946813344955444),\n",
       " ('khuya', 0.3824516236782074),\n",
       " ('harts', 0.38170725107192993),\n",
       " ('quái_xế', 0.3792042136192322)]"
      ]
     },
     "execution_count": 14,
     "metadata": {},
     "output_type": "execute_result"
    }
   ],
   "source": [
    "loaded_model.wv.most_similar('nhiệt')"
   ]
  },
  {
   "cell_type": "markdown",
   "metadata": {},
   "source": [
    "### Xuất ra vector của doc đã train dựa vào tag của doc đó"
   ]
  },
  {
   "cell_type": "code",
   "execution_count": 15,
   "metadata": {
    "scrolled": true
   },
   "outputs": [
    {
     "data": {
      "text/plain": [
       "array([ 0.02450618, -0.01277603,  0.08255215, -0.05655874,  0.14039212,\n",
       "       -0.05928926,  0.09601146,  0.12122582,  0.14726324, -0.03148405,\n",
       "       -0.04873369, -0.14303754,  0.00232079,  0.07672321, -0.14094478,\n",
       "        0.0592139 ,  0.04721021, -0.06020708,  0.03428698,  0.04690607,\n",
       "        0.20224541,  0.02463498,  0.00194866,  0.02079237, -0.04506549,\n",
       "       -0.02289934, -0.00518569,  0.0858886 , -0.06533607, -0.15777437,\n",
       "       -0.03584686,  0.04869974, -0.09768421,  0.0239072 , -0.05864898,\n",
       "       -0.09074295,  0.01973016, -0.01081183,  0.12436839, -0.05552965,\n",
       "        0.05094841,  0.08892427,  0.00138242,  0.07599117,  0.05721422,\n",
       "       -0.0428788 , -0.03158768,  0.03371916,  0.06685502,  0.02483669,\n",
       "       -0.00167349, -0.20787126,  0.00564792,  0.01232569,  0.03779722,\n",
       "        0.01927468, -0.06109818, -0.05005908,  0.21340863,  0.01002951,\n",
       "       -0.11169552,  0.18475142,  0.14887445, -0.00089729,  0.11781806,\n",
       "        0.12512626, -0.07493468,  0.05442571,  0.05339539, -0.03454574,\n",
       "       -0.12828107,  0.10512992,  0.02940441,  0.04657358,  0.03876039,\n",
       "       -0.03312053,  0.00747259,  0.09296594,  0.0997188 ,  0.08955436,\n",
       "       -0.0570376 ,  0.06955387, -0.0282488 , -0.02326808, -0.10295404,\n",
       "        0.03835396, -0.08770768, -0.09974584, -0.16481952, -0.12642981,\n",
       "        0.03452153,  0.10914806, -0.00718527, -0.0028729 , -0.0537531 ,\n",
       "       -0.04559679, -0.05935626,  0.08122093, -0.014339  , -0.07111637],\n",
       "      dtype=float32)"
      ]
     },
     "execution_count": 15,
     "metadata": {},
     "output_type": "execute_result"
    }
   ],
   "source": [
    "loaded_model.docvecs['SAMPLE_0']"
   ]
  },
  {
   "cell_type": "markdown",
   "metadata": {},
   "source": [
    "### Xuất ra các doc tương tự với doc chỉ định"
   ]
  },
  {
   "cell_type": "code",
   "execution_count": 16,
   "metadata": {
    "scrolled": true
   },
   "outputs": [
    {
     "data": {
      "text/plain": [
       "[('SAMPLE_37189', 0.988113522529602),\n",
       " ('SAMPLE_82711', 0.9873348474502563),\n",
       " ('SAMPLE_39920', 0.9838387966156006),\n",
       " ('SAMPLE_46189', 0.9817326068878174),\n",
       " ('SAMPLE_55599', 0.9816901683807373),\n",
       " ('SAMPLE_29760', 0.9815752506256104),\n",
       " ('SAMPLE_68119', 0.9809643030166626),\n",
       " ('SAMPLE_75809', 0.9805994033813477),\n",
       " ('SAMPLE_44396', 0.980556309223175),\n",
       " ('SAMPLE_51905', 0.9803471565246582)]"
      ]
     },
     "execution_count": 16,
     "metadata": {},
     "output_type": "execute_result"
    }
   ],
   "source": [
    "loaded_model.docvecs.most_similar('SAMPLE_0')"
   ]
  },
  {
   "cell_type": "code",
   "execution_count": 18,
   "metadata": {},
   "outputs": [],
   "source": [
    "from nltk.tokenize import word_tokenize\n",
    "import nltk\n",
    "#nltk.download('punkt')"
   ]
  },
  {
   "cell_type": "code",
   "execution_count": 19,
   "metadata": {},
   "outputs": [],
   "source": [
    "test_data = word_tokenize(\"Chiều nay ăn gì\".lower())"
   ]
  },
  {
   "cell_type": "code",
   "execution_count": 20,
   "metadata": {},
   "outputs": [
    {
     "data": {
      "text/plain": [
       "['chiều', 'nay', 'ăn', 'gì']"
      ]
     },
     "execution_count": 20,
     "metadata": {},
     "output_type": "execute_result"
    }
   ],
   "source": [
    "test_data"
   ]
  },
  {
   "cell_type": "code",
   "execution_count": 34,
   "metadata": {},
   "outputs": [],
   "source": [
    "new_doc = TaggedDocument(test_data, tags=['new_doc'])"
   ]
  },
  {
   "cell_type": "code",
   "execution_count": 35,
   "metadata": {
    "scrolled": true
   },
   "outputs": [
    {
     "data": {
      "text/plain": [
       "array([ 0.0389462 , -0.05965555,  0.1060019 , -0.02336759,  0.09616816,\n",
       "       -0.07847093,  0.06280866,  0.05348704,  0.02787253, -0.06860881,\n",
       "       -0.03053268, -0.10653654,  0.01179835,  0.05793824, -0.05669597,\n",
       "        0.09096027,  0.05806056, -0.05990096,  0.04398471,  0.0586647 ,\n",
       "        0.15618958,  0.06376253, -0.0460896 , -0.01008673, -0.03755061,\n",
       "       -0.01706441, -0.01033904,  0.13106826, -0.03143952, -0.16352072,\n",
       "       -0.01575426, -0.01906689, -0.12696606,  0.08907396,  0.01014864,\n",
       "       -0.02914027,  0.04050248,  0.09609975,  0.06795964, -0.06960049,\n",
       "        0.0586013 ,  0.02323061,  0.04346183,  0.05430899,  0.18923704,\n",
       "       -0.16200927,  0.02303583, -0.05152023, -0.01508911,  0.03174236,\n",
       "        0.02379732, -0.14491174, -0.06335623,  0.0193968 ,  0.02167826,\n",
       "        0.09145959,  0.00518823, -0.01692683,  0.26429582, -0.0340397 ,\n",
       "       -0.10641553,  0.10794535,  0.15381524, -0.04285296,  0.1328139 ,\n",
       "        0.08968867, -0.02263072,  0.04815183,  0.04206936, -0.04681294,\n",
       "       -0.02150956,  0.02496005, -0.0175187 ,  0.07022931,  0.10977377,\n",
       "        0.00415044,  0.02167968,  0.06690285,  0.14734386,  0.04748904,\n",
       "       -0.08274473, -0.01270264,  0.0402604 , -0.07559878, -0.02310102,\n",
       "       -0.0095204 , -0.20174457, -0.04537618, -0.14580514, -0.14607678,\n",
       "        0.00584268,  0.07701177,  0.00143998, -0.0320272 , -0.04519797,\n",
       "       -0.05181551, -0.10140415,  0.01533681,  0.08238674, -0.06269278],\n",
       "      dtype=float32)"
      ]
     },
     "execution_count": 35,
     "metadata": {},
     "output_type": "execute_result"
    }
   ],
   "source": [
    "v1 = loaded_model.infer_vector(new_doc.words)\n",
    "v1"
   ]
  },
  {
   "cell_type": "code",
   "execution_count": 26,
   "metadata": {},
   "outputs": [
    {
     "data": {
      "text/plain": [
       "86888"
      ]
     },
     "execution_count": 26,
     "metadata": {},
     "output_type": "execute_result"
    }
   ],
   "source": [
    "loaded_model.docvecs.count"
   ]
  },
  {
   "cell_type": "code",
   "execution_count": null,
   "metadata": {},
   "outputs": [],
   "source": [
    "# %load C:\\Users\\ADMIN\\Desktop\\Python Tutorial 1\\Doc2vec\\paragraphVector.py\n",
    "#Import all the dependencies\n",
    "from gensim.models.doc2vec import Doc2Vec, TaggedDocument\n",
    "from nltk.tokenize import word_tokenize\n",
    "import sys\n",
    "import csv\n",
    "import pandas as pd\n",
    "\n",
    "\n",
    "def main():\n",
    "    train_model()\n",
    "    model = Doc2Vec.load(\"d2v.model\")\n",
    "    # to find the vector of a document which is not in training data\n",
    "    test_data = word_tokenize(\"I love chatbots\".lower())\n",
    "    v1 = model.infer_vector(test_data)\n",
    "    print(\"V1_infer\", v1)\n",
    "\n",
    "    # to find most similar doc using tags\n",
    "    # similar_doc = model.docvecs.most_similar('1')\n",
    "    # print(similar_doc)\n",
    "\n",
    "    # to find vector of doc in training data using tags or in other words\n",
    "    # , printing the vector of document at index 1 in training data\n",
    "    # print(model.docvecs['1'])\n",
    "\n",
    "\n",
    "def train_model():\n",
    "    input_dir = \"data/2015-news-7.1-8.31.csv\"\n",
    "    small_dir = \"data/small.csv\"\n",
    "    # data = [\"I love machine learning. Its awesome.\",\n",
    "    #         \"I abc coding in python\",\n",
    "    #         \"I hate building chatbots\",\n",
    "    #         \"they chat amagingly well\"]\n",
    "\n",
    "    # set max field size\n",
    "    csv.field_size_limit(sys.maxsize)\n",
    "    # load file from csv\n",
    "    documents = []\n",
    "    tags = []\n",
    "    # csv format id,title,content,source,create_time,get_time\n",
    "    # with open(input_dir) as csvDataFile:\n",
    "    #     csvReader = csv.reader(csvDataFile)\n",
    "    #     next(csvReader, None)  # skip the headers\n",
    "    #     for row in csvReader:\n",
    "    #         documents.append(row[2])\n",
    "    #         tags.append(row[0])\n",
    "\n",
    "    # read csv using pandas\n",
    "\n",
    "    # input_dir = \"data/2015-news-7.1-8.31.csv\"\n",
    "    # for df in pd.read_csv(input_dir, sep=',', header=0, chunksize=5, encoding=\"utf-8\"):\n",
    "    #     tags.append(df[\"id\"].astype(str).values[0])\n",
    "    #     documents.append(df[\"content\"].astype(str).values[0])\n",
    "\n",
    "    # test another pandas\n",
    "\n",
    "    df2 = pd.read_csv(input_dir, sep=',', header=0, encoding=\"utf-8\")\n",
    "    print(\"Finish read csv\")\n",
    "    tags = df2[\"id\"].astype(str).values\n",
    "    documents = df2[\"content\"].astype(str).values\n",
    "\n",
    "    tagged_data = [TaggedDocument(words=word_tokenize(_d.lower()), tags=[tags[i]]) for i, _d in enumerate(documents)]\n",
    "    print(\"Finish load tagged data\")\n",
    "    max_epochs = 10\n",
    "    vec_size = 300\n",
    "    alpha = 0.025\n",
    "\n",
    "    model = Doc2Vec(size=vec_size,\n",
    "                    alpha=alpha,\n",
    "                    min_alpha=0.025,\n",
    "                    min_count=1,\n",
    "                    dm=1)\n",
    "    model.build_vocab(tagged_data)\n",
    "    for epoch in range(max_epochs):\n",
    "        print('iteration {0}'.format(epoch))\n",
    "        model.train(tagged_data,\n",
    "                    total_examples=model.corpus_count,\n",
    "                    epochs=model.iter)\n",
    "        # decrease the learning rate\n",
    "        model.alpha -= 0.0002\n",
    "        # fix the learning rate, no decay\n",
    "        model.min_alpha = model.alpha\n",
    "\n",
    "    model.save(\"d2v.model\")\n",
    "    print(\"Model Saved\")\n",
    "\n",
    "\n",
    "if \"__name__\": main()\n"
   ]
  },
  {
   "cell_type": "code",
   "execution_count": null,
   "metadata": {},
   "outputs": [],
   "source": []
  }
 ],
 "metadata": {
  "kernelspec": {
   "display_name": "Python 3",
   "language": "python",
   "name": "python3"
  },
  "language_info": {
   "codemirror_mode": {
    "name": "ipython",
    "version": 3
   },
   "file_extension": ".py",
   "mimetype": "text/x-python",
   "name": "python",
   "nbconvert_exporter": "python",
   "pygments_lexer": "ipython3",
   "version": "3.6.4"
  }
 },
 "nbformat": 4,
 "nbformat_minor": 2
}
