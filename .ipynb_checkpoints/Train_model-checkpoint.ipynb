{
 "cells": [
  {
   "cell_type": "markdown",
   "metadata": {},
   "source": [
    "## Import thư viện"
   ]
  },
  {
   "cell_type": "code",
   "execution_count": 1,
   "metadata": {},
   "outputs": [
    {
     "name": "stderr",
     "output_type": "stream",
     "text": [
      "C:\\Users\\ADMIN\\Anaconda3\\lib\\site-packages\\gensim\\utils.py:1197: UserWarning: detected Windows; aliasing chunkize to chunkize_serial\n",
      "  warnings.warn(\"detected Windows; aliasing chunkize to chunkize_serial\")\n"
     ]
    }
   ],
   "source": [
    "import sys\n",
    "\n",
    "# gensim modules\n",
    "from gensim import utils\n",
    "from gensim.models.doc2vec import TaggedDocument\n",
    "from gensim.models import Doc2Vec\n",
    "\n",
    "#glob\n",
    "import glob\n",
    "\n",
    "# numpy\n",
    "import numpy as np\n",
    "\n",
    "#pandas\n",
    "import pandas as pd\n",
    "\n",
    "# classifier\n",
    "from sklearn.linear_model import LogisticRegression\n",
    "from sklearn.svm import SVC\n",
    "from sklearn.metrics import confusion_matrix\n",
    "from sklearn.metrics import accuracy_score\n",
    "\n",
    "# random, itertools, matplotlib\n",
    "import random\n",
    "\n",
    "import multiprocessing\n",
    "\n",
    "import timeit\n",
    "import itertools"
   ]
  },
  {
   "cell_type": "markdown",
   "metadata": {},
   "source": [
    "## Class đọc từng dòng 'content' trong file csv"
   ]
  },
  {
   "cell_type": "code",
   "execution_count": 2,
   "metadata": {},
   "outputs": [],
   "source": [
    "class LabeledContent(object):\n",
    "    def __init__(self, sources):\n",
    "        self.sources = sources\n",
    "\n",
    "        flipped = {}\n",
    "\n",
    "        # make sure that keys are unique\n",
    "        for key, value in sources.items():\n",
    "            if value not in flipped:\n",
    "                flipped[value] = [key]\n",
    "            else:\n",
    "                raise Exception('Non-unique prefix encountered')\n",
    "\n",
    "    def to_array(self):\n",
    "        self.sentences = []\n",
    "        item_no = 0\n",
    "        for source, prefix in self.sources.items():\n",
    "            allFiles = glob.glob(source + \"/*.csv\")\n",
    "            for file_ in allFiles:\n",
    "                df = pd.read_csv(file_)\n",
    "                content = df['content']\n",
    "                title = df['title']\n",
    "                print('number documents: ', len(content))\n",
    "                for row in content:\n",
    "                    self.sentences.append(TaggedDocument(utils.to_unicode(row).split(), [prefix + '_%s' % item_no]))\n",
    "                    item_no = item_no + 1\n",
    "        return self.sentences, title\n",
    "\n",
    "    def sentences_perm(self):\n",
    "        shuffled = list(self.sentences)\n",
    "        random.shuffle(shuffled)\n",
    "        return shuffled"
   ]
  },
  {
   "cell_type": "markdown",
   "metadata": {},
   "source": [
    "## Xét đường dẫn tới dataset"
   ]
  },
  {
   "cell_type": "code",
   "execution_count": 3,
   "metadata": {},
   "outputs": [],
   "source": [
    "path = 'C:\\\\Users\\\\ADMIN\\\\Desktop\\\\Python Tutorial 1\\\\data\\\\a4'\n",
    "title_path = 'news_title_d2v.csv'\n",
    "#path = 'C:\\\\Users\\\\ADMIN\\\\Desktop\\\\Python Tutorial 1\\\\Doc2vec\\\\data\\\\a1'\n",
    "model_name = 'halleluja.d2v'\n",
    "_epochs = '1'\n",
    "cores = '7'"
   ]
  },
  {
   "cell_type": "code",
   "execution_count": 4,
   "metadata": {},
   "outputs": [
    {
     "name": "stdout",
     "output_type": "stream",
     "text": [
      "Load data ...\n",
      "Done! time:  4.938259899433325e-05  (s)\n"
     ]
    }
   ],
   "source": [
    "sources = {path: 'SAMPLE', }\n",
    "print('Load data ...')\n",
    "start = timeit.default_timer()\n",
    "sentences = LabeledContent(sources)\n",
    "stop = timeit.default_timer()\n",
    "print('Done! time: ', stop - start, ' (s)')"
   ]
  },
  {
   "cell_type": "markdown",
   "metadata": {},
   "source": [
    "## Xét tham số cho model, build vocabulary"
   ]
  },
  {
   "cell_type": "code",
   "execution_count": 5,
   "metadata": {},
   "outputs": [],
   "source": [
    "model = Doc2Vec(min_count=5, window=10, vector_size=400, sample=1e-4, negative=5, workers=int(cores), dm=0)"
   ]
  },
  {
   "cell_type": "code",
   "execution_count": 6,
   "metadata": {},
   "outputs": [
    {
     "name": "stdout",
     "output_type": "stream",
     "text": [
      "Tokenize ...\n",
      "number documents:  9944\n",
      "Done! time:  1.0070684276896538  (s)\n"
     ]
    }
   ],
   "source": [
    "print('Tokenize ...')\n",
    "start = timeit.default_timer()\n",
    "token,title = sentences.to_array()\n",
    "stop = timeit.default_timer()\n",
    "print('Done! time: ', stop - start, ' (s)')"
   ]
  },
  {
   "cell_type": "code",
   "execution_count": 7,
   "metadata": {},
   "outputs": [
    {
     "name": "stdout",
     "output_type": "stream",
     "text": [
      "Saving title ...\n",
      "Done! time:  0.053092614891578904  (s)\n"
     ]
    }
   ],
   "source": [
    "print('Saving title ...')\n",
    "start = timeit.default_timer()\n",
    "title.to_csv(title_path)\n",
    "stop = timeit.default_timer()\n",
    "print('Done! time: ', stop - start, ' (s)')"
   ]
  },
  {
   "cell_type": "code",
   "execution_count": 8,
   "metadata": {},
   "outputs": [
    {
     "name": "stdout",
     "output_type": "stream",
     "text": [
      "Build vocabulary ...\n",
      "Done! time:  1.38719513158685  (s)\n"
     ]
    }
   ],
   "source": [
    "print('Build vocabulary ...')\n",
    "start = timeit.default_timer()\n",
    "model.build_vocab(token)\n",
    "stop = timeit.default_timer()\n",
    "print('Done! time: ', stop - start, ' (s)')"
   ]
  },
  {
   "cell_type": "markdown",
   "metadata": {},
   "source": [
    "## Train model"
   ]
  },
  {
   "cell_type": "code",
   "execution_count": 9,
   "metadata": {},
   "outputs": [
    {
     "name": "stdout",
     "output_type": "stream",
     "text": [
      "Train model ...\n",
      "Done! time:  2.850964106356688  (s)\n"
     ]
    }
   ],
   "source": [
    "print('Train model ...')\n",
    "start = timeit.default_timer()\n",
    "model.train(sentences.sentences_perm(), total_examples=model.corpus_count, epochs=int(_epochs))\n",
    "stop = timeit.default_timer()\n",
    "print('Done! time: ', stop - start, ' (s)')"
   ]
  },
  {
   "cell_type": "markdown",
   "metadata": {},
   "source": [
    "## Save model"
   ]
  },
  {
   "cell_type": "code",
   "execution_count": 10,
   "metadata": {},
   "outputs": [
    {
     "name": "stdout",
     "output_type": "stream",
     "text": [
      "Save model ...\n",
      "Done!\n"
     ]
    }
   ],
   "source": [
    "print('Save model ...')\n",
    "model.save(model_name)\n",
    "print('Done!')"
   ]
  },
  {
   "cell_type": "code",
   "execution_count": null,
   "metadata": {},
   "outputs": [],
   "source": []
  }
 ],
 "metadata": {
  "kernelspec": {
   "display_name": "Python 3",
   "language": "python",
   "name": "python3"
  },
  "language_info": {
   "codemirror_mode": {
    "name": "ipython",
    "version": 3
   },
   "file_extension": ".py",
   "mimetype": "text/x-python",
   "name": "python",
   "nbconvert_exporter": "python",
   "pygments_lexer": "ipython3",
   "version": "3.6.4"
  }
 },
 "nbformat": 4,
 "nbformat_minor": 2
}
