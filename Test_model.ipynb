{
 "cells": [
  {
   "cell_type": "code",
   "execution_count": 1,
   "metadata": {},
   "outputs": [
    {
     "name": "stderr",
     "output_type": "stream",
     "text": [
      "C:\\Users\\ADMIN\\Anaconda3\\lib\\site-packages\\gensim\\utils.py:1197: UserWarning: detected Windows; aliasing chunkize to chunkize_serial\n",
      "  warnings.warn(\"detected Windows; aliasing chunkize to chunkize_serial\")\n"
     ]
    }
   ],
   "source": [
    "import sys\n",
    "\n",
    "# gensim modules\n",
    "from gensim import utils\n",
    "from gensim.models.doc2vec import TaggedDocument\n",
    "from gensim.models import Doc2Vec\n",
    "\n",
    "#glob\n",
    "import glob\n",
    "\n",
    "# numpy\n",
    "import numpy as np\n",
    "\n",
    "#pandas\n",
    "import pandas as pd\n",
    "\n",
    "# classifier\n",
    "from sklearn.linear_model import LogisticRegression\n",
    "from sklearn.svm import SVC\n",
    "from sklearn.metrics import confusion_matrix\n",
    "from sklearn.metrics import accuracy_score\n",
    "\n",
    "# random, itertools, matplotlib\n",
    "import random\n",
    "\n",
    "import multiprocessing\n",
    "\n",
    "import timeit\n",
    "import itertools"
   ]
  },
  {
   "cell_type": "code",
   "execution_count": 20,
   "metadata": {},
   "outputs": [],
   "source": [
    "model_path = 'halleluja.d2v'\n",
    "title_path = 'news_title_d2v.csv'\n",
    "prefix = 'SAMPLE' + '_'"
   ]
  },
  {
   "cell_type": "code",
   "execution_count": 3,
   "metadata": {},
   "outputs": [],
   "source": [
    "loaded_model = Doc2Vec.load(model_path)"
   ]
  },
  {
   "cell_type": "code",
   "execution_count": 4,
   "metadata": {},
   "outputs": [
    {
     "name": "stderr",
     "output_type": "stream",
     "text": [
      "C:\\Users\\ADMIN\\Anaconda3\\lib\\site-packages\\pandas\\core\\series.py:2890: FutureWarning: from_csv is deprecated. Please use read_csv(...) instead. Note that some of the default arguments are different, so please refer to the documentation for from_csv when changing your function calls\n",
      "  infer_datetime_format=infer_datetime_format)\n"
     ]
    }
   ],
   "source": [
    "loaded_news_title = pd.Series.from_csv(title_path)"
   ]
  },
  {
   "cell_type": "code",
   "execution_count": 35,
   "metadata": {},
   "outputs": [
    {
     "name": "stdout",
     "output_type": "stream",
     "text": [
      "Đi tìm gam màu \" hot \" mỹ_nhân Việt yêu_thích ngày hè Đi tìm gam màu \" hot \" mỹ_nhân Việt yêu_thích ngày hè\n"
     ]
    }
   ],
   "source": [
    "#similarity_sample = np.asarray(loaded_model.docvecs.most_similar('SAMPLE_0'))\n",
    "similarity_sample = loaded_model.docvecs.most_similar('SAMPLE_0')\n",
    "print(loaded_news_title[0])"
   ]
  },
  {
   "cell_type": "code",
   "execution_count": 36,
   "metadata": {},
   "outputs": [
    {
     "data": {
      "text/plain": [
       "[('SAMPLE_1182', 0.9997446537017822),\n",
       " ('SAMPLE_1048', 0.9997348785400391),\n",
       " ('SAMPLE_2598', 0.999733030796051),\n",
       " ('SAMPLE_6122', 0.9997292757034302),\n",
       " ('SAMPLE_1068', 0.9997284412384033),\n",
       " ('SAMPLE_3615', 0.9997284412384033),\n",
       " ('SAMPLE_1958', 0.9997279644012451),\n",
       " ('SAMPLE_3728', 0.9997270703315735),\n",
       " ('SAMPLE_5427', 0.9997258186340332),\n",
       " ('SAMPLE_4372', 0.9997227191925049)]"
      ]
     },
     "execution_count": 36,
     "metadata": {},
     "output_type": "execute_result"
    }
   ],
   "source": [
    "similarity_sample"
   ]
  },
  {
   "cell_type": "code",
   "execution_count": 37,
   "metadata": {},
   "outputs": [
    {
     "name": "stdout",
     "output_type": "stream",
     "text": [
      "Danh_sách thu_nhập cao : Katy_Perry ' cày trâu ' thắng Taylor_Swift\n",
      "10 loại thực_phẩm chữa ' kinh_nguyệt không '\n",
      "Thí_sinh bước môn thi kỳ thi THPT Quốc_gia\n",
      "Doanh_nghiệp bước_ngoặt trăm - nghìn tỷ\n",
      "Chấp_thuận đầu_tư siêu dự_án 1 tỷ USD Hải_Phòng\n",
      "Tóc_Tiên khoe thành_tích học_tập \" khủng \" Tóc_Tiên khoe thành_tích học_tập \" khủng \"\n",
      "Chúc_mừng BT S.TW . G H.PGHH Đại_lễ kỷ_niệm 76 năm ngày Đức_Huỳnh_Giáo_Chủ\n",
      "Lần gặp bạn_trai dẫn thẳng khách_sạn\n",
      "Kỳ thi THPT Quốc_gia 2015 : Toàn_cảnh ngày thi\n",
      "Buổi kỳ thi THPT . thí_sinh cấp_cứu\n"
     ]
    }
   ],
   "source": [
    "for sample in similarity_sample:\n",
    "    index = int(sample[0][len(prefix):])\n",
    "    print(loaded_news_title[index])"
   ]
  },
  {
   "cell_type": "code",
   "execution_count": null,
   "metadata": {},
   "outputs": [],
   "source": []
  }
 ],
 "metadata": {
  "kernelspec": {
   "display_name": "Python 3",
   "language": "python",
   "name": "python3"
  },
  "language_info": {
   "codemirror_mode": {
    "name": "ipython",
    "version": 3
   },
   "file_extension": ".py",
   "mimetype": "text/x-python",
   "name": "python",
   "nbconvert_exporter": "python",
   "pygments_lexer": "ipython3",
   "version": "3.6.4"
  }
 },
 "nbformat": 4,
 "nbformat_minor": 2
}
